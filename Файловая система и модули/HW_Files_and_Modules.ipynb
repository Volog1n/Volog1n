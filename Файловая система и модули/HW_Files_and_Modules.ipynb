{
 "cells": [
  {
   "cell_type": "markdown",
   "metadata": {},
   "source": [
    "# Домашнее задание: Файловая система и модули\n",
    "\n",
    "## Задание 1: Работа с файлом purchase_log.txt\n",
    "Необходимо перевести содержимое файла в словарь purchases"
   ]
  },
  {
   "cell_type": "code",
   "execution_count": null,
   "metadata": {
    "tags": []
   },
   "source": [
    "import json\n",
    "\n",
    "# Создаем словарь\n",
    "purchases = {}\n",
    "\n",
    "# Открываем файл и читаем первые 6 строк (1 строка заголовок + 5 строк данных)\n",
    "with open('data/purchase_log.txt', encoding='utf-8') as f:\n",
    "    # Пропускаем первую строку с заголовками\n",
    "    next(f)\n",
    "    # Читаем следующие 5 строк\n",
    "    for i in range(5):\n",
    "        line = f.readline()  # Читаем одну строку из файла\n",
    "        # Преобразуем строку JSON в словарь Python\n",
    "        record = json.loads(line)\n",
    "        # Добавляем в словарь purchases новую запись\n",
    "        purchases[record['user_id']] = record['category']  \n",
    "\n",
    "# Выводим результат\n",
    "purchases"
   ]
  },
  {
   "cell_type": "markdown",
   "metadata": {},
   "source": [
    "## Задание 2: Создание файла funnel.csv\n",
    "Необходимо обработать данные из нескольких файлов"
   ]
  },
  {
   "cell_type": "code",
   "execution_count": null,
   "metadata": {},
   "source": [
    "import json\n",
    "\n",
    "# Создаем словарь покупок из purchase_log.txt\n",
    "purchases = {}\n",
    "with open('data/purchase_log.txt', encoding='utf-8') as f:\n",
    "    next(f)  # пропускаем заголовок\n",
    "    for line in f:\n",
    "        record = json.loads(line)\n",
    "        purchases[record['user_id']] = record['category']\n",
    "\n",
    "# Создаем funnel.csv и записываем в него данные\n",
    "with open('data/visit_log.csv') as visits, \\\n",
    "     open('data/funnel.csv', 'w') as funnel:\n",
    "    \n",
    "    # Записываем заголовок\n",
    "    funnel.write('user_id,source,category\\n')\n",
    "    \n",
    "    # Пропускаем заголовок в visit_log.csv\n",
    "    next(visits)\n",
    "    \n",
    "    # Обрабатываем каждую строку из visit_log.csv\n",
    "    for line in visits:\n",
    "        user_id, source = line.strip().split(',')\n",
    "        \n",
    "        # Если пользователь есть в словаре purchases\n",
    "        if user_id in purchases:\n",
    "            funnel.write(f'{user_id},{source},{purchases[user_id]}\\n')"
   ]
  }
 ],
 "metadata": {
  "kernelspec": {
   "display_name": "Python 3",
   "language": "python",
   "name": "python3"
  },
  "language_info": {
   "codemirror_mode": {
    "name": "ipython",
    "version": 3
   },
   "file_extension": ".py",
   "mimetype": "text/x-python",
   "name": "python",
   "nbconvert_exporter": "python",
   "pygments_lexer": "ipython3",
   "version": "3.8.0"
  }
 },
 "nbformat": 4,
 "nbformat_minor": 4
}

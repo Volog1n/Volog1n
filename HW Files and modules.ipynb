{
 "cells": [
  {
   "cell_type": "markdown",
   "metadata": {},
   "source": [
    "# Переведите содержимое файла purchase_log.txt* в словарь purchases вида"
   ]
  },
  {
   "cell_type": "code",
   "execution_count": 7,
   "metadata": {},
   "outputs": [
    {
     "data": {
      "text/plain": [
       "{'1840e0b9d4': 'Продукты',\n",
       " '4e4f90fcfb': 'Электроника',\n",
       " 'afea8d72fc': 'Электроника',\n",
       " '373a6055fe': 'Бытовая техника',\n",
       " '9b2ab046f3': 'Электроника'}"
      ]
     },
     "execution_count": 7,
     "metadata": {},
     "output_type": "execute_result"
    }
   ],
   "source": [
    "import json\n",
    "\n",
    "# Создаем словарь\n",
    "purchases = {}\n",
    "\n",
    "# Открываем файл и читаем первые 6 строк (1 строка заголовок + 5 строк данных)\n",
    "with open('D:/python/projects/materials HW/purchase_log.txt', encoding='utf-8') as f:\n",
    "    # Пропускаем первую строку с заголовками\n",
    "    next(f)\n",
    "    # Читаем следующие 5 строк\n",
    "    for i in range(5):\n",
    "        line = f.readline()  # Читаем одну строку из файла и сохраняем ее в переменную 'line'\n",
    "        # Преобразуем строку JSON в словарь Python\n",
    "        record = json.loads(line)\n",
    "        # Добавляем в словарь purchases новую запись, где ключом является user_id, а значением - category\n",
    "        purchases[record['user_id']] = record['category']  \n",
    "\n",
    "# Смотрим что получилось\n",
    "purchases"
   ]
  },
  {
   "cell_type": "markdown",
   "metadata": {},
   "source": [
    "# Задание 2 три файла"
   ]
  },
  {
   "cell_type": "code",
   "execution_count": 6,
   "metadata": {},
   "outputs": [
    {
     "name": "stdout",
     "output_type": "stream",
     "text": [
      "user_id,source,category\n",
      "1840e0b9d4,other,Продукты\n",
      "4e4f90fcfb,context,Электроника\n",
      "afea8d72fc,other,Электроника\n",
      "2824221f38,email,Продукты\n",
      "373a6055fe,other,Бытовая техника\n",
      "9b2ab046f3,other,Электроника\n",
      "9f39d307c3,context,Электроника\n",
      "44edeffc91,context,Продукты\n",
      "704474fa2d,other,Продукты\n",
      "1de31be403,other,Бытовая техника\n",
      "5da0dedf13,context,Досуг\n",
      "b71f36a5e4,other,Продукты\n",
      "79843a685a,context,Продукты\n",
      "ff68cee0d6,context,Бытовая техника\n",
      "e8447c40e2,email,Досуг\n",
      "b9ef8fdf47,other,Продукты\n",
      "98d290be27,other,Электроника\n",
      "3fff459bda,other,Электроника\n",
      "fa0079a5a8,other,Досуг\n"
     ]
    }
   ],
   "source": [
    "import json\n",
    "\n",
    "# Создаем словарь покупок из purchase_log.txt\n",
    "purchases = {}\n",
    "with open('D:/python/projects/materials HW/purchase_log.txt', encoding='utf-8') as f:\n",
    "    next(f)  # пропускаем заголовок\n",
    "    for line in f:\n",
    "        record = json.loads(line)\n",
    "        purchases[record['user_id']] = record['category']\n",
    "\n",
    "# Создаем funnel.csv и записываем в него данные\n",
    "with open('D:/python/projects/materials HW/visit_log.csv') as visits, \\\n",
    "     open('D:/python/projects/materials HW/funnel.csv', 'w') as funnel:\n",
    "    \n",
    "    # Записываем заголовок\n",
    "    funnel.write('user_id,source,category\\n')\n",
    "    \n",
    "    # Пропускаем заголовок в visit_log.csv\n",
    "    next(visits)\n",
    "    \n",
    "    # Обрабатываем каждую строку из visit_log.csv\n",
    "    for line in visits:\n",
    "        user_id, source = line.strip().split(',')\n",
    "        if user_id in purchases:  # если пользователь совершил покупку\n",
    "            category = purchases[user_id]\n",
    "            funnel.write(f'{user_id},{source},{category}\\n')\n",
    "\n",
    "# Проверка результата\n",
    "with open('D:/python/projects/materials HW/funnel.csv') as f:\n",
    "    for i in range(20):\n",
    "        print(f.readline().strip())"
   ]
  }
 ],
 "metadata": {
  "kernelspec": {
   "display_name": "Python 3",
   "language": "python",
   "name": "python3"
  },
  "language_info": {
   "codemirror_mode": {
    "name": "ipython",
    "version": 3
   },
   "file_extension": ".py",
   "mimetype": "text/x-python",
   "name": "python",
   "nbconvert_exporter": "python",
   "pygments_lexer": "ipython3",
   "version": "3.13.0"
  }
 },
 "nbformat": 4,
 "nbformat_minor": 2
}
